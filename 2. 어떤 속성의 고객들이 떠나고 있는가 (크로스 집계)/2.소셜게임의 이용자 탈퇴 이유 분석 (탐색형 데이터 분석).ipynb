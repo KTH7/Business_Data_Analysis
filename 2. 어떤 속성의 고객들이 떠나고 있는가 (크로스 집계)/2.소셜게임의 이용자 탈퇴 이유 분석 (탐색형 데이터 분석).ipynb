{
 "cells": [
  {
   "attachments": {},
   "cell_type": "markdown",
   "metadata": {},
   "source": [
    "# 소셜게임의 이용자 탈퇴 이유 분석\n",
    ">퍼즐컬렉션 서비스를 시작한지 1년 3개월이 지났습니다.</br>\n",
    "서비스 직후에는 사전등록자를 중심으로 유저수가 크게 증가하였고, 몇 주 후에는 심각한 버그 때문에 유저들이 탈퇴하다가, 1개월 후에는 광고 효과로 다시 유저수가 증가하였고, 그 이후에는 그 광고를 보고 가입했던 유저들이 조금씩 떠나는 등 유저수가 단기적으로는 오르락내리락하면서 월 단위로는 반년 정도 계속해서 상승하였습니다.</br>\n",
    "그 후 8개월 동안은 유저수가 정점을 찍은 상태로 유지되었습니다.\n",
    "\n",
    ">그런데 이달 들어 퍼즐컬렉션 유저수가 크게 줄어들었습니다. </br>\n",
    "지금껏 회사를 대표하는 히트 게임이었던 만큼 경영진을 중심으로 유저수의 감소를 큰 과제로 여겼습니다.</br>\n",
    "광고 담당자 : \"광고는 지난달과 비교해서 질이나 양 모두 전혀 변한점이 없었습니다.\" </br>\n",
    "게임기획 담당자 : \"퍼즐컬렉션에서 달마다 개최하는 이벤트도 큰 차이가 없었습니다.\"</br>\n",
    "결국 소셜게임사업 본부장으로부터 \"유저수가 감소하는 원인을 조사해서 무슨 조치든 취하시오.\"라는 업무지시가 데이터 분석담당부서로 떨어졌습니다.\n",
    "\n",
    "## 현실의 모습 / 이상적인 모습\n",
    "* 현실의 모습 : 지난달과 비교해서 이달 들어 유저수가 줄었다.\n",
    "* 이상적인 모습 : 지난달과 같은 수준으로 유저수를 회복하는 것\n",
    "\n",
    "## 문제 발견\n",
    "* 문제\n",
    "  - 지난달과 비교해서 이달 들어 유저수가 줄었다. (사실)\n",
    "* 가설\n",
    "  1. 광고에 문제가 있어서 신규 유저수보다 탈퇴 유저수가 더 많았다. (가설)\n",
    "  2. 매월 테마를 바꿔서 개최하던 게임의 이벤트가 식상해져서 그만둔 유저가 많았다. (가설)\n",
    "  3. 성별 혹은 연령 등 특정 유저층에서 탈퇴한 유저가 많았다. (가설)\n",
    "* 타 부서들과 질의응답 결과\n",
    "  - 광고는 지난달과 비교해 거의 같은 수준이었으며 신규 유저수도 거의 같은 수준이었다. (가설 1 기각)\n",
    "  - 이벤트 내용도 지난달과 거의 바뀌지 않았다. (가설 2 기각)\n",
    "\n",
    ">성별 혹은 연령 등 특정 유저층에서 탈퇴한 유저가 많았다. 라는 가설 3 을 분석 테마로 선정</br>\n",
    "- 일반적으로 유저층을 분류하는 기준에는 성별, 연령 등이 있고, 먼저 이렇게 분류해서 유저수가 줄어든 층이 있는지 확인할 수 있다.</br>\n",
    "- 각 유저층의 유저수를 지난달과 비교해서 줄어든 유저층이 있는지 데이터로 확인하고, 만일 실제로 있다면 어떻게 유저수를 회복할지 생각해보자."
   ]
  },
  {
   "attachments": {},
   "cell_type": "markdown",
   "metadata": {},
   "source": [
    "## 데이터 수집과 가공\n",
    "### 데이터 분석 스토리 정리\n",
    "* 문제\n",
    "  - 지난달과 비교해서 유저수가 줄어들었다. (사실)\n",
    "  - 어떤 특정한 유저층에 문제가 생겼을 것이다. (가설)\n",
    "* 해결책\n",
    "  - 숫자가 줄어든 유저층에 적합한 대책을 세워서 지난달과 같은 수준으로 유저수를 회복한다.\n",
    "* 최종 스토리 정리\n",
    "  - 퍼즐컬렉션의 유저수가 지난달보다 줄어들었다. (사실)\n",
    "  - 어딘가 숫자가 줄어든 세그먼트가 있을 것이다. (가설)\n",
    "  - 그 세그먼트에 적합한 대책을 세워서 유저수를 지난달과 같은 수준으로 회복한다. (해결책)\n",
    "* 분석에 필요한 데이터 검토\n",
    "  - DAU(Daily Active User) : 하루에 한 번 이상 게임을 이용한 유저 데이터\n",
    "  - user_info : 유저의 속성정보 데이터"
   ]
  },
  {
   "cell_type": "markdown",
   "metadata": {},
   "source": [
    "### 분석에 필요한 데이터 수집"
   ]
  },
  {
   "cell_type": "code",
   "execution_count": 3,
   "metadata": {},
   "outputs": [],
   "source": [
    "#필요한 라이브러리 불러오기\n",
    "import pandas as pd\n",
    "import numpy as np\n",
    "#CSV 파일 읽어 들이기\n",
    "dau = pd.read_csv('section4-dau.csv')\n",
    "user_info = pd.read_csv('section4-user_info.csv')"
   ]
  },
  {
   "cell_type": "code",
   "execution_count": 4,
   "metadata": {},
   "outputs": [
    {
     "name": "stdout",
     "output_type": "stream",
     "text": [
      "<class 'pandas.core.frame.DataFrame'>\n",
      "RangeIndex: 170360 entries, 0 to 170359\n",
      "Data columns (total 3 columns):\n",
      " #   Column    Non-Null Count   Dtype \n",
      "---  ------    --------------   ----- \n",
      " 0   log_date  170360 non-null  object\n",
      " 1   app_name  170360 non-null  object\n",
      " 2   user_id   170360 non-null  int64 \n",
      "dtypes: int64(1), object(2)\n",
      "memory usage: 3.9+ MB\n",
      "============================================\n",
      "          log_date app_name  user_id\n",
      "0       2013-08-01  game-01    33754\n",
      "1       2013-08-01  game-01    28598\n",
      "2       2013-08-01  game-01    30306\n",
      "3       2013-08-01  game-01      117\n",
      "4       2013-08-01  game-01     6605\n",
      "...            ...      ...      ...\n",
      "170355  2013-09-30  game-01    49329\n",
      "170356  2013-09-30  game-01    49330\n",
      "170357  2013-09-30  game-01    49331\n",
      "170358  2013-09-30  game-01    48888\n",
      "170359  2013-09-30  game-01    10155\n",
      "\n",
      "[170360 rows x 3 columns]\n"
     ]
    }
   ],
   "source": [
    "dau.info()\n",
    "# log_date : 로그인한 날\n",
    "# app_name : 앱 이름\n",
    "# user_id : 유저 ID\n",
    "print(\"============================================\")\n",
    "print(dau)"
   ]
  },
  {
   "cell_type": "code",
   "execution_count": 6,
   "metadata": {},
   "outputs": [
    {
     "name": "stdout",
     "output_type": "stream",
     "text": [
      "<class 'pandas.core.frame.DataFrame'>\n",
      "RangeIndex: 49526 entries, 0 to 49525\n",
      "Data columns (total 6 columns):\n",
      " #   Column        Non-Null Count  Dtype \n",
      "---  ------        --------------  ----- \n",
      " 0   install_date  49526 non-null  object\n",
      " 1   app_name      49526 non-null  object\n",
      " 2   user_id       49526 non-null  int64 \n",
      " 3   gender        49526 non-null  object\n",
      " 4   generation    49526 non-null  int64 \n",
      " 5   device_type   49526 non-null  object\n",
      "dtypes: int64(2), object(4)\n",
      "memory usage: 2.3+ MB\n",
      "============================================\n",
      "      install_date app_name  user_id gender  generation device_type\n",
      "0       2013-04-15  game-01        1      M          40         iOS\n",
      "1       2013-04-15  game-01        2      M          10     Android\n",
      "2       2013-04-15  game-01        3      F          40         iOS\n",
      "3       2013-04-15  game-01        4      M          10     Android\n",
      "4       2013-04-15  game-01        5      M          40         iOS\n",
      "...            ...      ...      ...    ...         ...         ...\n",
      "49521   2013-09-30  game-01    49522      F          20         iOS\n",
      "49522   2013-09-30  game-01    49523      F          20         iOS\n",
      "49523   2013-09-30  game-01    49524      F          30         iOS\n",
      "49524   2013-09-30  game-01    49525      F          20         iOS\n",
      "49525   2013-09-30  game-01    49526      M          20     Android\n",
      "\n",
      "[49526 rows x 6 columns]\n"
     ]
    }
   ],
   "source": [
    "user_info.info()\n",
    "# install_date : 이용시작일\n",
    "# app_name : 앱 이름\n",
    "# user_id : 유저 ID\n",
    "# gender : 성별(여성,남성)\n",
    "# generation : 연령대(10,20,30,40,50)\n",
    "# device_type : 단말기 종류(iOS,Android)\n",
    "print(\"============================================\")\n",
    "print(user_info)"
   ]
  },
  {
   "cell_type": "markdown",
   "metadata": {},
   "source": [
    "### 데이터 가공(전처리)"
   ]
  },
  {
   "cell_type": "code",
   "execution_count": 15,
   "metadata": {},
   "outputs": [
    {
     "data": {
      "text/html": [
       "<div>\n",
       "<style scoped>\n",
       "    .dataframe tbody tr th:only-of-type {\n",
       "        vertical-align: middle;\n",
       "    }\n",
       "\n",
       "    .dataframe tbody tr th {\n",
       "        vertical-align: top;\n",
       "    }\n",
       "\n",
       "    .dataframe thead th {\n",
       "        text-align: right;\n",
       "    }\n",
       "</style>\n",
       "<table border=\"1\" class=\"dataframe\">\n",
       "  <thead>\n",
       "    <tr style=\"text-align: right;\">\n",
       "      <th></th>\n",
       "      <th>user_id</th>\n",
       "      <th>app_name</th>\n",
       "      <th>log_date</th>\n",
       "      <th>install_date</th>\n",
       "      <th>gender</th>\n",
       "      <th>generation</th>\n",
       "      <th>device_type</th>\n",
       "    </tr>\n",
       "  </thead>\n",
       "  <tbody>\n",
       "    <tr>\n",
       "      <th>0</th>\n",
       "      <td>1</td>\n",
       "      <td>game-01</td>\n",
       "      <td>2013-09-01</td>\n",
       "      <td>2013-04-15</td>\n",
       "      <td>M</td>\n",
       "      <td>40</td>\n",
       "      <td>iOS</td>\n",
       "    </tr>\n",
       "    <tr>\n",
       "      <th>1</th>\n",
       "      <td>1</td>\n",
       "      <td>game-01</td>\n",
       "      <td>2013-09-02</td>\n",
       "      <td>2013-04-15</td>\n",
       "      <td>M</td>\n",
       "      <td>40</td>\n",
       "      <td>iOS</td>\n",
       "    </tr>\n",
       "    <tr>\n",
       "      <th>2</th>\n",
       "      <td>1</td>\n",
       "      <td>game-01</td>\n",
       "      <td>2013-09-03</td>\n",
       "      <td>2013-04-15</td>\n",
       "      <td>M</td>\n",
       "      <td>40</td>\n",
       "      <td>iOS</td>\n",
       "    </tr>\n",
       "    <tr>\n",
       "      <th>3</th>\n",
       "      <td>1</td>\n",
       "      <td>game-01</td>\n",
       "      <td>2013-09-04</td>\n",
       "      <td>2013-04-15</td>\n",
       "      <td>M</td>\n",
       "      <td>40</td>\n",
       "      <td>iOS</td>\n",
       "    </tr>\n",
       "    <tr>\n",
       "      <th>4</th>\n",
       "      <td>1</td>\n",
       "      <td>game-01</td>\n",
       "      <td>2013-09-05</td>\n",
       "      <td>2013-04-15</td>\n",
       "      <td>M</td>\n",
       "      <td>40</td>\n",
       "      <td>iOS</td>\n",
       "    </tr>\n",
       "    <tr>\n",
       "      <th>...</th>\n",
       "      <td>...</td>\n",
       "      <td>...</td>\n",
       "      <td>...</td>\n",
       "      <td>...</td>\n",
       "      <td>...</td>\n",
       "      <td>...</td>\n",
       "      <td>...</td>\n",
       "    </tr>\n",
       "    <tr>\n",
       "      <th>194293</th>\n",
       "      <td>49522</td>\n",
       "      <td>game-01</td>\n",
       "      <td>2013-09-30</td>\n",
       "      <td>2013-09-30</td>\n",
       "      <td>F</td>\n",
       "      <td>20</td>\n",
       "      <td>iOS</td>\n",
       "    </tr>\n",
       "    <tr>\n",
       "      <th>194294</th>\n",
       "      <td>49523</td>\n",
       "      <td>game-01</td>\n",
       "      <td>2013-09-30</td>\n",
       "      <td>2013-09-30</td>\n",
       "      <td>F</td>\n",
       "      <td>20</td>\n",
       "      <td>iOS</td>\n",
       "    </tr>\n",
       "    <tr>\n",
       "      <th>194295</th>\n",
       "      <td>49524</td>\n",
       "      <td>game-01</td>\n",
       "      <td>2013-09-30</td>\n",
       "      <td>2013-09-30</td>\n",
       "      <td>F</td>\n",
       "      <td>30</td>\n",
       "      <td>iOS</td>\n",
       "    </tr>\n",
       "    <tr>\n",
       "      <th>194296</th>\n",
       "      <td>49525</td>\n",
       "      <td>game-01</td>\n",
       "      <td>2013-09-30</td>\n",
       "      <td>2013-09-30</td>\n",
       "      <td>F</td>\n",
       "      <td>20</td>\n",
       "      <td>iOS</td>\n",
       "    </tr>\n",
       "    <tr>\n",
       "      <th>194297</th>\n",
       "      <td>49526</td>\n",
       "      <td>game-01</td>\n",
       "      <td>NaN</td>\n",
       "      <td>2013-09-30</td>\n",
       "      <td>M</td>\n",
       "      <td>20</td>\n",
       "      <td>Android</td>\n",
       "    </tr>\n",
       "  </tbody>\n",
       "</table>\n",
       "<p>194298 rows × 7 columns</p>\n",
       "</div>"
      ],
      "text/plain": [
       "        user_id app_name    log_date install_date gender  generation  \\\n",
       "0             1  game-01  2013-09-01   2013-04-15      M          40   \n",
       "1             1  game-01  2013-09-02   2013-04-15      M          40   \n",
       "2             1  game-01  2013-09-03   2013-04-15      M          40   \n",
       "3             1  game-01  2013-09-04   2013-04-15      M          40   \n",
       "4             1  game-01  2013-09-05   2013-04-15      M          40   \n",
       "...         ...      ...         ...          ...    ...         ...   \n",
       "194293    49522  game-01  2013-09-30   2013-09-30      F          20   \n",
       "194294    49523  game-01  2013-09-30   2013-09-30      F          20   \n",
       "194295    49524  game-01  2013-09-30   2013-09-30      F          30   \n",
       "194296    49525  game-01  2013-09-30   2013-09-30      F          20   \n",
       "194297    49526  game-01         NaN   2013-09-30      M          20   \n",
       "\n",
       "       device_type  \n",
       "0              iOS  \n",
       "1              iOS  \n",
       "2              iOS  \n",
       "3              iOS  \n",
       "4              iOS  \n",
       "...            ...  \n",
       "194293         iOS  \n",
       "194294         iOS  \n",
       "194295         iOS  \n",
       "194296         iOS  \n",
       "194297     Android  \n",
       "\n",
       "[194298 rows x 7 columns]"
      ]
     },
     "execution_count": 15,
     "metadata": {},
     "output_type": "execute_result"
    }
   ],
   "source": [
    "# user_info 데이터에 dau 데이터 결합하기\n",
    "user_info_dau = pd.merge(user_info, dau, on=['user_id', 'app_name'],how='left')\n",
    "user_info_dau=user_info_dau[['user_id','app_name','log_date','install_date','gender','generation','device_type']]\n",
    "user_info_dau"
   ]
  },
  {
   "attachments": {},
   "cell_type": "markdown",
   "metadata": {},
   "source": [
    "### 데이터 분석\n",
    "- 어떤 속성을 가진 유저층이 지난달에 비해 감소하였는지 그 세그먼트를 찾아내기 위해 크로스집계를 실시하고, 만일 원인으로 생각되는 속성이 발견되면 그것을 시각화하겠다."
   ]
  },
  {
   "cell_type": "code",
   "execution_count": 19,
   "metadata": {},
   "outputs": [],
   "source": [
    "# 세그먼트 분석(성별로 집계)\n",
    "# 지난달과 이번달을 비교하기 위해 월 처리\n",
    "user_info_dau['log_date']=pd.to_datetime(user_info_dau[\"log_date\"])\n",
    "user_info_dau['log_date']=user_info_dau['log_date'].dt.strftime('%Y-%m')\n",
    "user_info_dau['install_date']=pd.to_datetime(user_info_dau[\"install_date\"])\n",
    "user_info_dau['install_date']=user_info_dau['install_date'].dt.strftime('%Y-%m')"
   ]
  },
  {
   "cell_type": "code",
   "execution_count": 22,
   "metadata": {},
   "outputs": [
    {
     "data": {
      "text/html": [
       "<div>\n",
       "<style scoped>\n",
       "    .dataframe tbody tr th:only-of-type {\n",
       "        vertical-align: middle;\n",
       "    }\n",
       "\n",
       "    .dataframe tbody tr th {\n",
       "        vertical-align: top;\n",
       "    }\n",
       "\n",
       "    .dataframe thead th {\n",
       "        text-align: right;\n",
       "    }\n",
       "</style>\n",
       "<table border=\"1\" class=\"dataframe\">\n",
       "  <thead>\n",
       "    <tr style=\"text-align: right;\">\n",
       "      <th>gender</th>\n",
       "      <th>F</th>\n",
       "      <th>M</th>\n",
       "    </tr>\n",
       "    <tr>\n",
       "      <th>log_date</th>\n",
       "      <th></th>\n",
       "      <th></th>\n",
       "    </tr>\n",
       "  </thead>\n",
       "  <tbody>\n",
       "    <tr>\n",
       "      <th>2013-08</th>\n",
       "      <td>47343</td>\n",
       "      <td>46842</td>\n",
       "    </tr>\n",
       "    <tr>\n",
       "      <th>2013-09</th>\n",
       "      <td>38027</td>\n",
       "      <td>38148</td>\n",
       "    </tr>\n",
       "  </tbody>\n",
       "</table>\n",
       "</div>"
      ],
      "text/plain": [
       "gender        F      M\n",
       "log_date              \n",
       "2013-08   47343  46842\n",
       "2013-09   38027  38148"
      ]
     },
     "execution_count": 22,
     "metadata": {},
     "output_type": "execute_result"
    }
   ],
   "source": [
    "# 성별로 집계\n",
    "by_gender = user_info_dau.groupby(['log_date','gender'])['gender'].count()\n",
    "by_gender.unstack()"
   ]
  },
  {
   "cell_type": "code",
   "execution_count": 23,
   "metadata": {},
   "outputs": [
    {
     "data": {
      "text/html": [
       "<div>\n",
       "<style scoped>\n",
       "    .dataframe tbody tr th:only-of-type {\n",
       "        vertical-align: middle;\n",
       "    }\n",
       "\n",
       "    .dataframe tbody tr th {\n",
       "        vertical-align: top;\n",
       "    }\n",
       "\n",
       "    .dataframe thead th {\n",
       "        text-align: right;\n",
       "    }\n",
       "</style>\n",
       "<table border=\"1\" class=\"dataframe\">\n",
       "  <thead>\n",
       "    <tr style=\"text-align: right;\">\n",
       "      <th>generation</th>\n",
       "      <th>10</th>\n",
       "      <th>20</th>\n",
       "      <th>30</th>\n",
       "      <th>40</th>\n",
       "      <th>50</th>\n",
       "    </tr>\n",
       "    <tr>\n",
       "      <th>log_date</th>\n",
       "      <th></th>\n",
       "      <th></th>\n",
       "      <th></th>\n",
       "      <th></th>\n",
       "      <th></th>\n",
       "    </tr>\n",
       "  </thead>\n",
       "  <tbody>\n",
       "    <tr>\n",
       "      <th>2013-08</th>\n",
       "      <td>18785</td>\n",
       "      <td>33671</td>\n",
       "      <td>28072</td>\n",
       "      <td>8828</td>\n",
       "      <td>4829</td>\n",
       "    </tr>\n",
       "    <tr>\n",
       "      <th>2013-09</th>\n",
       "      <td>15391</td>\n",
       "      <td>27229</td>\n",
       "      <td>22226</td>\n",
       "      <td>7494</td>\n",
       "      <td>3835</td>\n",
       "    </tr>\n",
       "  </tbody>\n",
       "</table>\n",
       "</div>"
      ],
      "text/plain": [
       "generation     10     20     30    40    50\n",
       "log_date                                   \n",
       "2013-08     18785  33671  28072  8828  4829\n",
       "2013-09     15391  27229  22226  7494  3835"
      ]
     },
     "execution_count": 23,
     "metadata": {},
     "output_type": "execute_result"
    }
   ],
   "source": [
    "#세그먼트 분석(연령대별로 집계)\n",
    "by_generation = user_info_dau.groupby(['log_date','generation'])['generation'].count()\n",
    "by_generation.unstack()"
   ]
  },
  {
   "attachments": {},
   "cell_type": "markdown",
   "metadata": {},
   "source": [
    "* 2013년 8월과 9월의 남녀를 비교해보면 전체적으로 숫자는 줄어들었지만 남녀의 구성비율은 거의 변화가 없으므로, 성별은 전체 이용자수 변화에 직접적인 영향이 크지 않음\n",
    "* 연령대 또한 거의 비슷한 비율을 이루고 있고, 크게 줄어든 연령대는 찾아볼 수 없음.\n",
    "> 그렇다면 특정 성별의 특정 연령대에서 이용률이 떨어졌을 가능성을 생각해보자."
   ]
  },
  {
   "cell_type": "code",
   "execution_count": 33,
   "metadata": {},
   "outputs": [
    {
     "data": {
      "text/html": [
       "<div>\n",
       "<style scoped>\n",
       "    .dataframe tbody tr th:only-of-type {\n",
       "        vertical-align: middle;\n",
       "    }\n",
       "\n",
       "    .dataframe tbody tr th {\n",
       "        vertical-align: top;\n",
       "    }\n",
       "\n",
       "    .dataframe thead th {\n",
       "        text-align: right;\n",
       "    }\n",
       "</style>\n",
       "<table border=\"1\" class=\"dataframe\">\n",
       "  <thead>\n",
       "    <tr style=\"text-align: right;\">\n",
       "      <th></th>\n",
       "      <th>generation</th>\n",
       "      <th>10</th>\n",
       "      <th>20</th>\n",
       "      <th>30</th>\n",
       "      <th>40</th>\n",
       "      <th>50</th>\n",
       "    </tr>\n",
       "    <tr>\n",
       "      <th>log_date</th>\n",
       "      <th>gender</th>\n",
       "      <th></th>\n",
       "      <th></th>\n",
       "      <th></th>\n",
       "      <th></th>\n",
       "      <th></th>\n",
       "    </tr>\n",
       "  </thead>\n",
       "  <tbody>\n",
       "    <tr>\n",
       "      <th rowspan=\"2\" valign=\"top\">2013-08</th>\n",
       "      <th>F</th>\n",
       "      <td>9091</td>\n",
       "      <td>17181</td>\n",
       "      <td>14217</td>\n",
       "      <td>4597</td>\n",
       "      <td>2257</td>\n",
       "    </tr>\n",
       "    <tr>\n",
       "      <th>M</th>\n",
       "      <td>9694</td>\n",
       "      <td>16490</td>\n",
       "      <td>13855</td>\n",
       "      <td>4231</td>\n",
       "      <td>2572</td>\n",
       "    </tr>\n",
       "    <tr>\n",
       "      <th rowspan=\"2\" valign=\"top\">2013-09</th>\n",
       "      <th>F</th>\n",
       "      <td>7316</td>\n",
       "      <td>13616</td>\n",
       "      <td>11458</td>\n",
       "      <td>3856</td>\n",
       "      <td>1781</td>\n",
       "    </tr>\n",
       "    <tr>\n",
       "      <th>M</th>\n",
       "      <td>8075</td>\n",
       "      <td>13613</td>\n",
       "      <td>10768</td>\n",
       "      <td>3638</td>\n",
       "      <td>2054</td>\n",
       "    </tr>\n",
       "  </tbody>\n",
       "</table>\n",
       "</div>"
      ],
      "text/plain": [
       "generation         10     20     30    40    50\n",
       "log_date gender                                \n",
       "2013-08  F       9091  17181  14217  4597  2257\n",
       "         M       9694  16490  13855  4231  2572\n",
       "2013-09  F       7316  13616  11458  3856  1781\n",
       "         M       8075  13613  10768  3638  2054"
      ]
     },
     "execution_count": 33,
     "metadata": {},
     "output_type": "execute_result"
    }
   ],
   "source": [
    "#세그먼트 분석(성별 X 연령대) (크로스 집계)\n",
    "by_gender_generation = user_info_dau.groupby(['log_date','gender','generation'])['gender'].count()\n",
    "by_gender_generation.unstack()"
   ]
  },
  {
   "attachments": {},
   "cell_type": "markdown",
   "metadata": {},
   "source": [
    "* 이번에도 역시 모든 세그먼트에서 전체적으로 숫자가 감소하였고 비율도 비슷해서, 크게 감소한 세그먼트를 발견할 수 없었음\n",
    ">그렇다면 단말기 종류가 안드로이드인지 아이폰인지에 따라 차이가 있는지 확인해보자."
   ]
  },
  {
   "cell_type": "code",
   "execution_count": 38,
   "metadata": {},
   "outputs": [
    {
     "data": {
      "text/html": [
       "<div>\n",
       "<style scoped>\n",
       "    .dataframe tbody tr th:only-of-type {\n",
       "        vertical-align: middle;\n",
       "    }\n",
       "\n",
       "    .dataframe tbody tr th {\n",
       "        vertical-align: top;\n",
       "    }\n",
       "\n",
       "    .dataframe thead th {\n",
       "        text-align: right;\n",
       "    }\n",
       "</style>\n",
       "<table border=\"1\" class=\"dataframe\">\n",
       "  <thead>\n",
       "    <tr style=\"text-align: right;\">\n",
       "      <th>device_type</th>\n",
       "      <th>Android</th>\n",
       "      <th>iOS</th>\n",
       "    </tr>\n",
       "    <tr>\n",
       "      <th>log_date</th>\n",
       "      <th></th>\n",
       "      <th></th>\n",
       "    </tr>\n",
       "  </thead>\n",
       "  <tbody>\n",
       "    <tr>\n",
       "      <th>2013-08</th>\n",
       "      <td>46974</td>\n",
       "      <td>47211</td>\n",
       "    </tr>\n",
       "    <tr>\n",
       "      <th>2013-09</th>\n",
       "      <td>29647</td>\n",
       "      <td>46528</td>\n",
       "    </tr>\n",
       "  </tbody>\n",
       "</table>\n",
       "</div>"
      ],
      "text/plain": [
       "device_type  Android    iOS\n",
       "log_date                   \n",
       "2013-08        46974  47211\n",
       "2013-09        29647  46528"
      ]
     },
     "execution_count": 38,
     "metadata": {},
     "output_type": "execute_result"
    }
   ],
   "source": [
    "# 세그먼트 분석(단말기별로 집계)\n",
    "by_devicetype = user_info_dau.groupby(['log_date','device_type'])['device_type'].count().unstack()\n",
    "by_devicetype"
   ]
  },
  {
   "attachments": {},
   "cell_type": "markdown",
   "metadata": {},
   "source": [
    ">iOS를 사용하는 유저수는 거의 줄어들지 않은 반면 Android를 사용하는 유저수는 크게 감소한 것을 확인할 수 있음 </br>\n",
    "이 세그먼트 분류가 이번 사례의 문제를 해결할 수 있을것 같다."
   ]
  },
  {
   "attachments": {},
   "cell_type": "markdown",
   "metadata": {},
   "source": [
    "* 그래프로 데이터를 시각화해보자."
   ]
  },
  {
   "cell_type": "code",
   "execution_count": 44,
   "metadata": {},
   "outputs": [
    {
     "data": {
      "text/plain": [
       "<Axes: xlabel='log_date'>"
      ]
     },
     "execution_count": 44,
     "metadata": {},
     "output_type": "execute_result"
    },
    {
     "data": {
      "image/png": "[encoded data removed]",
      "text/plain": [
       "<Figure size 800x600 with 1 Axes>"
      ]
     },
     "metadata": {},
     "output_type": "display_data"
    }
   ],
   "source": [
    "#세그먼트 분석 결과 시각화하기\n",
    "import matplotlib.pyplot as plt\n",
    "df = pd.merge(user_info,dau, on=['user_id', 'app_name'],how='left')\n",
    "df = df.groupby(['log_date','device_type'])['device_type'].count().unstack()\n",
    "df.plot(figsize=(8, 6), stacked=False)"
   ]
  },
  {
   "attachments": {},
   "cell_type": "markdown",
   "metadata": {},
   "source": [
    ">iOS와 Android 양쪽 모두 비슷한 유저수를 유지하다가 9월 두 번째 주부터 급격히 Androidㅇ 유저수가 줄어든 것을 알 수 있다."
   ]
  },
  {
   "attachments": {},
   "cell_type": "markdown",
   "metadata": {},
   "source": [
    "## 데이터 분석 결과\n",
    "\n",
    "#### 세웠던 가설\n",
    "- 퍼즐컬렉션의 유저수가 지난달보다 줄어들었다. (사실)\n",
    "- 어딘가 숫자가 줄어든 세그먼트가 있을 것이다. (가설)\n",
    "- 그 세그먼트에 적합한 대책을 세워서 유저수를 지난달과 같은 수준으로 회복한다. (해결책)\n",
    "\n",
    "#### 분석 후 얻어낸 것\n",
    "- 퍼즐컬렉션의 유저수가 지난달보다 줄어들었다. (사실)\n",
    "- Android 단말기를 이용하는 유저수가 현저히 줄어들었다. (사실)\n",
    "- Android 단말기에서 게임에 문제가 있는지 찾아내고 해결하여 유저수를 지난달과 같은 수준으로 되돌린다.\n",
    "  (데이터 분석으로 얻어낸 신빙성 높은 해결책)\n",
    "\n",
    "## 액션\n",
    "> 분석 결과를 바탕으로 게임개발부서에 확인해본 결과, 9월 12일에 Android용 게임의 버전업을 실시한 것을 알게되었음</br>\n",
    "유저수가 줄어든 단말기 기종의 데이터를 뽑아봤더니 모두 구형 기종이라는 공통점을 발견할 수 있었음</br> 게임 버전업 후에 구형 Android단말기에서 로그인이 되지 않는 버그가 발생한 것이 드러났고, 시급히 이 버그를 고치기로 하였음."
   ]
  },
  {
   "attachments": {},
   "cell_type": "markdown",
   "metadata": {},
   "source": [
    "## 정리\n",
    "#### 크로스집계를 활용한 세그먼트 분석 진행\n",
    ">지난달과 비교해서 유저수가 줄어든 것을 문제로 보고 그 원인을 찾아보았음</br>\n",
    "데이터를 분석하기 전에 가급적 관계 부서에 정보를 캐묻고 사실을 파악하는 것은 필수지만, 이렇다 할 원인이 밝혀지지 않을 때도 있다는 것을 알게 되었음.</br> 이런 경우 탐색형 데이터 분석을 실시하고 검증할 때 시행착오가 여러 번 발생하기 때문에 지금 밝히고자 하는 문제가 무엇이고 그 가설을 어떻게 세웠었는지 항상 의식하면서 데이터를 주의 깊게 파고드는 것이 중요하다고 느낌."
   ]
  }
 ],
 "metadata": {
  "kernelspec": {
   "display_name": "Python 3 (ipykernel)",
   "language": "python",
   "name": "python3"
  },
  "language_info": {
   "codemirror_mode": {
    "name": "ipython",
    "version": 3
   },
   "file_extension": ".py",
   "mimetype": "text/x-python",
   "name": "python",
   "nbconvert_exporter": "python",
   "pygments_lexer": "ipython3",
   "version": "3.10.6"
  }
 },
 "nbformat": 4,
 "nbformat_minor": 4
}
